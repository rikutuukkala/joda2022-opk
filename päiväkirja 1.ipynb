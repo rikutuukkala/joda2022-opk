{
 "cells": [
  {
   "cell_type": "markdown",
   "id": "57f865f4-c70c-40b0-82ea-201d607d0215",
   "metadata": {},
   "source": [
    "# hööö"
   ]
  },
  {
   "cell_type": "markdown",
   "id": "9c0646f5-d916-48b3-930e-996345dd61d8",
   "metadata": {},
   "source": [
    "iltaa vaan :D"
   ]
  }
 ],
 "metadata": {
  "kernelspec": {
   "display_name": "Python 3 (ipykernel)",
   "language": "python",
   "name": "python3"
  },
  "language_info": {
   "codemirror_mode": {
    "name": "ipython",
    "version": 3
   },
   "file_extension": ".py",
   "mimetype": "text/x-python",
   "name": "python",
   "nbconvert_exporter": "python",
   "pygments_lexer": "ipython3",
   "version": "3.9.7"
  }
 },
 "nbformat": 4,
 "nbformat_minor": 5
}
